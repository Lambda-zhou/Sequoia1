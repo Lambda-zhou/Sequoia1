#  拉取代码库与安装依赖
!git clone https://github.com/sngyai/Sequoia1
%cd Sequoia1
!pip install -r requirements.txt
!pip install wxpusher
!pip install schedule
!pip install yfinance
!pip install akshare --upgrade
%cp config.yaml.example config.yaml


#  TA-Lib 安装（Linux系统下，Windows用pip就行）
!wget https://www.lfd.uci.edu/~gohlke/pythonlibs/TA_Lib-0.4.28-cp311-cp311-linux_x86_64.whl
!wget https://www.lfd.uci.edu/~gohlke/pythonlibs/TA_Lib-0.4.28-cp310-cp310-linux_x86_64.whl
url = 'https://launchpad.net/~mario-mariomedina/+archive/ubuntu/talib/+files'
ext = '0.4.0-oneiric1_amd64.deb -qO'
!wget $url/libta-lib0_$ext libta.deb
!wget $url/ta-lib0-dev_$ext ta.deb
!dpkg -i libta.deb ta.deb
!pip install TA_Lib-0.4.28-cp310-cp310-linux_x86_64.whl


#  运行选股outputstock函数能够选出前20个出现次数最多的股票
import outputstock
outputstock.printstock(20)
outputstock.printpool(20)